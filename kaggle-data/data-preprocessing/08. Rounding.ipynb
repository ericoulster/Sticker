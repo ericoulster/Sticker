{
 "cells": [
  {
   "cell_type": "code",
   "execution_count": null,
   "source": [
    "import numpy as np\r\n",
    "from math import isnan\r\n",
    "import json\r\n",
    "from pathlib import Path"
   ],
   "outputs": [],
   "metadata": {}
  },
  {
   "cell_type": "code",
   "execution_count": null,
   "source": [
    "data_path = Path(r'../data-processed').glob('*.json')"
   ],
   "outputs": [],
   "metadata": {}
  },
  {
   "cell_type": "code",
   "execution_count": null,
   "source": [
    "test_path = Path(r'../data-test/').glob('*.json')"
   ],
   "outputs": [],
   "metadata": {}
  },
  {
   "cell_type": "code",
   "execution_count": null,
   "source": [
    "landing_path = Path(r'../new-data-processed/')"
   ],
   "outputs": [],
   "metadata": {}
  },
  {
   "cell_type": "code",
   "execution_count": null,
   "source": [
    "with open(landing_path.joinpath('aieq.json'), 'r') as json_file:\r\n",
    "        data = json.load(json_file)\r\n",
    "        if isnan(data['aieq']['pos_vals'][0]['p-val']) is False:\r\n",
    "            print(\"Bad\")\r\n",
    "        else:\r\n",
    "            print(\"Good.\")\r\n",
    "        \r\n",
    "        \"\"\"\r\n",
    "        if \"pos_vals\" in data[i.stem]:\r\n",
    "            for j in range(len(data[i.stem]['pos_vals'])):\r\n",
    "                    try:\r\n",
    "                        if (data[i.stem]['pos_vals'][j]['p-val'] is not None) & (data[i.stem]['pos_vals'][j]['cor_coef'] is not None):\r\n",
    "                            data[i.stem]['pos_vals'][j]['p-val'] = round(data[i.stem]['pos_vals'][j]['p-val'], 6)\r\n",
    "                            data[i.stem]['pos_vals'][j]['cor_coef'] = round(data[i.stem]['pos_vals'][j]['cor_coef'], 6)\r\n",
    "                        else: \r\n",
    "                            data[i.stem]['pos_vals'].pop(j)\r\n",
    "                    except Exception as e:\r\n",
    "                        print(e)\r\n",
    "        \"\"\""
   ],
   "outputs": [],
   "metadata": {}
  },
  {
   "cell_type": "code",
   "execution_count": null,
   "source": [
    "for i in data_path:\r\n",
    "    with open(i, 'r') as json_file:\r\n",
    "        data = json.load(json_file)\r\n",
    "        print(i.name)\r\n",
    "        for j in data[i.stem]['price']:\r\n",
    "            data[i.stem]['price'][j] = round(data[i.stem]['price'][j], 4)\r\n",
    "\r\n",
    "        pos_has_nans = 0\r\n",
    "        neg_has_nans = 0\r\n",
    "        decor_has_nans = 0\r\n",
    "\r\n",
    "        if \"pos_vals\" in data[i.stem]:\r\n",
    "            for j in range(len(data[i.stem]['pos_vals'])):\r\n",
    "                    try:\r\n",
    "                        if (isnan(data[i.stem]['pos_vals'][j]['p-val']) is False) & (isnan(data[i.stem]['pos_vals'][j]['cor_coef']) is False):\r\n",
    "                            data[i.stem]['pos_vals'][j]['p-val'] = round(data[i.stem]['pos_vals'][j]['p-val'], 6)\r\n",
    "                            data[i.stem]['pos_vals'][j]['cor_coef'] = round(data[i.stem]['pos_vals'][j]['cor_coef'], 6)\r\n",
    "                        else: \r\n",
    "                            pos_has_nans = 1\r\n",
    "                    except Exception as e:\r\n",
    "                        print(e)\r\n",
    "                          \r\n",
    "\r\n",
    "\r\n",
    "        if \"neg_vals\" in data[i.stem]:\r\n",
    "            for j in range(len(data[i.stem]['neg_vals'])):\r\n",
    "                try:\r\n",
    "                    if (isnan(data[i.stem]['neg_vals'][j]['p-val']) is False) & (isnan(data[i.stem]['neg_vals'][j]['cor_coef']) is False):\r\n",
    "                        data[i.stem]['neg_vals'][j]['p-val'] = round(data[i.stem]['neg_vals'][j]['p-val'], 6)     \r\n",
    "                        data[i.stem]['neg_vals'][j]['cor_coef'] = round(data[i.stem]['neg_vals'][j]['cor_coef'], 6)\r\n",
    "                    else:\r\n",
    "                        neg_has_nans = 1\r\n",
    "                except Exception as e:\r\n",
    "                        print(e)\r\n",
    "                                     \r\n",
    "\r\n",
    "        if \"decorrelated_vals\" in data[i.stem]:\r\n",
    "            for j in range(len(data[i.stem]['decorrelated_vals'])):\r\n",
    "\r\n",
    "                try:\r\n",
    "                    if (isnan(data[i.stem]['decorrelated_vals'][j]['p-val']) is False) & (isnan(data[i.stem]['decorrelated_vals'][j]['cor_coef']) is False):\r\n",
    "                        data[i.stem]['decorrelated_vals'][j]['p-val'] = round(data[i.stem]['decorrelated_vals'][j]['p-val'], 6)\r\n",
    "                        data[i.stem]['decorrelated_vals'][j]['cor_coef'] = round(data[i.stem]['decorrelated_vals'][j]['cor_coef'], 6)\r\n",
    "                    else:\r\n",
    "                        decor_has_nans = 1\r\n",
    "                except Exception as e:\r\n",
    "                        print(e)\r\n",
    "\r\n",
    "        if pos_has_nans == 1:\r\n",
    "            data[i.stem].pop('pos_vals')\r\n",
    "        if neg_has_nans == 1:\r\n",
    "            data[i.stem].pop('neg_vals')\r\n",
    "        if decor_has_nans == 1:\r\n",
    "            data[i.stem].pop('decorrelated_vals')\r\n",
    "\r\n",
    "        json_file.close()\r\n",
    "\r\n",
    "    with open(landing_path.joinpath(str(i.name)), \"w\", encoding=\"utf-8\") as new_file:\r\n",
    "                        json.dump(data, new_file)    \r\n",
    "                        new_file.close()"
   ],
   "outputs": [],
   "metadata": {}
  }
 ],
 "metadata": {
  "orig_nbformat": 4,
  "language_info": {
   "name": "python",
   "version": "3.8.8",
   "mimetype": "text/x-python",
   "codemirror_mode": {
    "name": "ipython",
    "version": 3
   },
   "pygments_lexer": "ipython3",
   "nbconvert_exporter": "python",
   "file_extension": ".py"
  },
  "kernelspec": {
   "name": "python3",
   "display_name": "Python 3.8.8 64-bit ('base': conda)"
  },
  "interpreter": {
   "hash": "b3ba2566441a7c06988d0923437866b63cedc61552a5af99d1f4fb67d367b25f"
  }
 },
 "nbformat": 4,
 "nbformat_minor": 2
}