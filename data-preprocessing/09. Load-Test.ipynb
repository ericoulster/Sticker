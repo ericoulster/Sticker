{
 "cells": [
  {
   "cell_type": "code",
   "execution_count": null,
   "source": [
    "import numpy as np\r\n",
    "import pandas as pd\r\n",
    "import json\r\n",
    "from pathlib import Path\r\n",
    "import boto3\r\n",
    "from decimal import Decimal\r\n",
    "import time"
   ],
   "outputs": [],
   "metadata": {}
  },
  {
   "cell_type": "code",
   "execution_count": null,
   "source": [
    "with open(Path(r'../access.json'), 'r') as access_file:\r\n",
    "    access = json.load(access_file)\r\n",
    "    access_file.close()"
   ],
   "outputs": [],
   "metadata": {}
  },
  {
   "cell_type": "code",
   "execution_count": null,
   "source": [
    "test_path = Path(r'../data-test/').glob('*.json')"
   ],
   "outputs": [],
   "metadata": {}
  },
  {
   "cell_type": "code",
   "execution_count": null,
   "source": [
    "data_path = Path(r'../new-data-processed/').glob('*.json')\r\n",
    "\r\n",
    "# use a and acmr as examples"
   ],
   "outputs": [],
   "metadata": {}
  },
  {
   "cell_type": "code",
   "execution_count": null,
   "source": [
    "dynamodb = boto3.resource('dynamodb',region_name='us-east-2',aws_access_key_id=access['KEY_IAM_AWS'],aws_secret_access_key=access['SECRET_IAM_AWS'])\r\n",
    "\r\n",
    "table = dynamodb.Table('Tickers')"
   ],
   "outputs": [],
   "metadata": {}
  },
  {
   "cell_type": "code",
   "execution_count": null,
   "source": [
    "for i in data_path:\r\n",
    "    row_dict = {}\r\n",
    "    with open(i, 'r') as json_file:\r\n",
    "            print(i.stem)\r\n",
    "            row_dict['ticker'] = i.stem\r\n",
    "            \r\n",
    "            data = json.load(json_file)\r\n",
    "            \r\n",
    "            \r\n",
    "            row_dict['price'] = data[i.stem]['price']\r\n",
    "\r\n",
    "            try:\r\n",
    "                row_dict['pos_vals'] = data[i.stem]['pos_vals']\r\n",
    "            except:\r\n",
    "                row_dict['pos_vals'] = None\r\n",
    "\r\n",
    "                print(f\"skipping pos_vals for {i}\")\r\n",
    "\r\n",
    "            try:\r\n",
    "                row_dict['neg_vals'] = data[i.stem]['neg_vals']\r\n",
    "            except:\r\n",
    "                row_dict['neg_vals'] = None\r\n",
    "                \r\n",
    "                print(f\"skipping neg_vals for {i}\")\r\n",
    "\r\n",
    "            try:\r\n",
    "                row_dict['dec_vals'] = data[i.stem]['decorrelated_vals']\r\n",
    "            except:\r\n",
    "                print(f\"skipping neg_vals for {i}\")\r\n",
    "                row_dict['dec_vals'] = None\r\n",
    "            table.put_item(Item=json.loads(json.dumps(row_dict), parse_float=Decimal))\r\n",
    "            time.sleep(3)\r\n"
   ],
   "outputs": [],
   "metadata": {}
  }
 ],
 "metadata": {
  "orig_nbformat": 4,
  "language_info": {
   "name": "python",
   "version": "3.8.8",
   "mimetype": "text/x-python",
   "codemirror_mode": {
    "name": "ipython",
    "version": 3
   },
   "pygments_lexer": "ipython3",
   "nbconvert_exporter": "python",
   "file_extension": ".py"
  },
  "kernelspec": {
   "name": "python3",
   "display_name": "Python 3.8.8 64-bit ('base': conda)"
  },
  "interpreter": {
   "hash": "b3ba2566441a7c06988d0923437866b63cedc61552a5af99d1f4fb67d367b25f"
  }
 },
 "nbformat": 4,
 "nbformat_minor": 2
}