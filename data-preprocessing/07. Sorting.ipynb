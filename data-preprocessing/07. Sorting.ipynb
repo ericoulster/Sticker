{
 "cells": [
  {
   "cell_type": "code",
   "execution_count": 1,
   "source": [
    "import numpy as np\r\n",
    "import pandas as pd\r\n",
    "import json\r\n",
    "from pathlib import Path\r\n",
    "from joblib import parallel_backend"
   ],
   "outputs": [],
   "metadata": {}
  },
  {
   "cell_type": "code",
   "execution_count": 115,
   "source": [
    "data_path = Path(r'../data/').glob('*.json')"
   ],
   "outputs": [],
   "metadata": {}
  },
  {
   "cell_type": "code",
   "execution_count": 116,
   "source": [
    "def dataframe_actions(comparison_list):\r\n",
    "    df = pd.DataFrame(comparison_list)\r\n",
    "    df['is_neg'] = np.where(df['cor_coef'] <= 0, 1, 0)\r\n",
    "    df['is_stat_sig'] = np.where(df['p-val'] < 0.05, 1, 0)\r\n",
    "    \r\n",
    "    df['abs_stock'] = np.absolute(df['cor_coef'])\r\n",
    "    df_pos = df[df['is_neg'] == 0]\r\n",
    "    df_neg = df[df['is_neg'] == 1]\r\n",
    "\r\n",
    "    # get de-correlated\r\n",
    "    if df[df['is_stat_sig'] == 1]['is_stat_sig'].sum() > 10:\r\n",
    "        dec_vals = df[df['is_stat_sig'] == 1].sort_values('abs_stock', ascending=True).drop(['is_neg', 'abs_stock'], axis=1)\r\n",
    "    else:\r\n",
    "        dec_vals = df.sort_values(['is_stat_sig', 'abs_stock'], ascending=True).drop(['is_neg', 'abs_stock'], axis=1)\r\n",
    "    dec_dict = dec_vals[:10].to_dict(orient='records')\r\n",
    "\r\n",
    "    # get positives\r\n",
    "    if df_pos[df_pos['is_stat_sig'] == 1]['is_stat_sig'].sum() > 30:\r\n",
    "        pos_vals = df_pos[df_pos['is_stat_sig'] == 1].sort_values('cor_coef', ascending=False).drop(['is_neg', 'abs_stock'], axis=1)\r\n",
    "    else:   \r\n",
    "        pos_vals = df_pos.sort_values(['is_stat_sig', 'cor_coef'], ascending=False).drop(['is_neg', 'abs_stock'], axis=1)\r\n",
    "    pos_dict = pos_vals[:50].to_dict(orient='records')\r\n",
    "    \r\n",
    "    # get negatives\r\n",
    "    if df_neg[df_neg['is_stat_sig'] == 1]['is_stat_sig'].sum() > 30:\r\n",
    "        neg_vals = df_neg[df_neg['is_stat_sig'] == 1].sort_values('cor_coef', ascending=True).drop(['is_neg', 'abs_stock'], axis=1)\r\n",
    "    else:   \r\n",
    "        neg_vals = df_neg.sort_values(['is_stat_sig', 'cor_coef'], ascending=False).drop(['is_neg', 'abs_stock'], axis=1)\r\n",
    "    neg_dict = neg_vals[:50].to_dict(orient='records')    \r\n",
    "\r\n",
    "    # get closest to zero\r\n",
    "\r\n",
    "\r\n",
    "    return pos_dict, neg_dict, dec_dict\r\n",
    "        \r\n",
    "        "
   ],
   "outputs": [],
   "metadata": {}
  },
  {
   "cell_type": "code",
   "execution_count": 117,
   "source": [
    "test_path = Path(r'../data-test/').glob('*.json')"
   ],
   "outputs": [],
   "metadata": {}
  },
  {
   "cell_type": "code",
   "execution_count": 118,
   "source": [
    "for i in test_path:\r\n",
    "    comparison_list = []\r\n",
    "    with open(i, 'r') as json_file:\r\n",
    "        data = json.load(json_file)\r\n",
    "        for j in data[i.stem]['comparisons']:\r\n",
    "            comparison_list.append(\r\n",
    "                {'name': data[i.stem]['comparisons'][j]['referencing'], 'cor_coef': data[i.stem]['comparisons'][j]['cor_coef'], 'p-val': data[i.stem]['comparisons'][j]['p-val']}\r\n",
    "                )\r\n",
    "        pos_dict, neg_dict, dec_dict = dataframe_actions(comparison_list)\r\n",
    "        data[i.stem].pop('comparisons')\r\n",
    "        data[i.stem]['pos_vals'] = pos_dict\r\n",
    "        data[i.stem]['neg_vals'] = neg_dict\r\n",
    "        data[i.stem]['decorrelated_vals'] = dec_dict\r\n",
    "        json_file.close()\r\n",
    "    \r\n",
    "    with open('../data-processed' + i.name, 'w') as json_file:\r\n",
    "        json.dump(data, json_file)    \r\n",
    "        json_file.close()\r\n",
    "    \r\n",
    "    \r\n",
    "    "
   ],
   "outputs": [],
   "metadata": {}
  }
 ],
 "metadata": {
  "orig_nbformat": 4,
  "language_info": {
   "name": "python",
   "version": "3.8.8",
   "mimetype": "text/x-python",
   "codemirror_mode": {
    "name": "ipython",
    "version": 3
   },
   "pygments_lexer": "ipython3",
   "nbconvert_exporter": "python",
   "file_extension": ".py"
  },
  "kernelspec": {
   "name": "python3",
   "display_name": "Python 3.8.8 64-bit ('base': conda)"
  },
  "interpreter": {
   "hash": "b3ba2566441a7c06988d0923437866b63cedc61552a5af99d1f4fb67d367b25f"
  }
 },
 "nbformat": 4,
 "nbformat_minor": 2
}