{
 "cells": [
  {
   "cell_type": "code",
   "execution_count": 12,
   "source": [
    "import numpy as np\r\n",
    "import pandas as pd\r\n",
    "import json\r\n",
    "from pathlib import Path\r\n",
    "from joblib import parallel_backend"
   ],
   "outputs": [],
   "metadata": {}
  },
  {
   "cell_type": "code",
   "execution_count": 13,
   "source": [
    "test_path = Path(r'../data-test/').glob('*.json')"
   ],
   "outputs": [],
   "metadata": {}
  },
  {
   "cell_type": "code",
   "execution_count": 14,
   "source": [
    "data_path = Path(r'../data-processed/').glob('*.json')"
   ],
   "outputs": [],
   "metadata": {}
  },
  {
   "cell_type": "code",
   "execution_count": 15,
   "source": [
    "landing_path = Path(r'../new-data-processed/')"
   ],
   "outputs": [],
   "metadata": {}
  },
  {
   "cell_type": "code",
   "execution_count": 16,
   "source": [
    "for i in data_path:\r\n",
    "    with open(i, 'r') as json_file:\r\n",
    "            stock_path = landing_path.joinpath(i.stem)\r\n",
    "            stock_path.mkdir(parents=True, exist_ok=True)\r\n",
    "            \r\n",
    "            data = json.load(json_file)\r\n",
    "            \r\n",
    "            \r\n",
    "            price = data[i.stem]['price']\r\n",
    "\r\n",
    "            with open(stock_path.joinpath(\"price.json\"), \"w\", encoding=\"utf-8\") as price_file:\r\n",
    "                        json.dump(price, price_file)    \r\n",
    "                        price_file.close()\r\n",
    "\r\n",
    "            \r\n",
    "            try:\r\n",
    "                pos_vals = data[i.stem]['pos_vals']\r\n",
    "\r\n",
    "                with open(stock_path.joinpath(\"pos_vals.json\"), \"w\", encoding=\"utf-8\") as pos_file:\r\n",
    "                            json.dump(pos_vals, pos_file)    \r\n",
    "                            pos_file.close()\r\n",
    "            except:\r\n",
    "                print(f\"skipping pos_vals for {i}\")\r\n",
    "\r\n",
    "            try:\r\n",
    "                neg_vals = data[i.stem]['neg_vals']\r\n",
    "\r\n",
    "                with open(stock_path.joinpath(\"neg_vals.json\"), \"w\", encoding=\"utf-8\") as neg_file:\r\n",
    "                            json.dump(neg_vals, neg_file)    \r\n",
    "                            neg_file.close()            \r\n",
    "            except:\r\n",
    "                print(f\"skipping neg_vals for {i}\")\r\n",
    "\r\n",
    "            try:\r\n",
    "                dec_vals = data[i.stem]['decorrelated_vals']\r\n",
    "\r\n",
    "                with open(stock_path.joinpath(\"dec_vals.json\"), \"w\", encoding=\"utf-8\") as dec_file:\r\n",
    "                            json.dump(dec_vals, dec_file)    \r\n",
    "                            dec_file.close()      \r\n",
    "\r\n",
    "            except:\r\n",
    "                print(f\"skipping neg_vals for {i}\")\r\n",
    "\r\n",
    "    json_file.close()\r\n"
   ],
   "outputs": [
    {
     "output_type": "error",
     "ename": "KeyError",
     "evalue": "'pos_vals'",
     "traceback": [
      "\u001b[1;31m---------------------------------------------------------------------------\u001b[0m",
      "\u001b[1;31mKeyError\u001b[0m                                  Traceback (most recent call last)",
      "\u001b[1;32m<ipython-input-16-0b5b81911f8b>\u001b[0m in \u001b[0;36m<module>\u001b[1;34m\u001b[0m\n\u001b[0;32m     15\u001b[0m \u001b[1;33m\u001b[0m\u001b[0m\n\u001b[0;32m     16\u001b[0m \u001b[1;33m\u001b[0m\u001b[0m\n\u001b[1;32m---> 17\u001b[1;33m             \u001b[0mpos_vals\u001b[0m \u001b[1;33m=\u001b[0m \u001b[0mdata\u001b[0m\u001b[1;33m[\u001b[0m\u001b[0mi\u001b[0m\u001b[1;33m.\u001b[0m\u001b[0mstem\u001b[0m\u001b[1;33m]\u001b[0m\u001b[1;33m[\u001b[0m\u001b[1;34m'pos_vals'\u001b[0m\u001b[1;33m]\u001b[0m\u001b[1;33m\u001b[0m\u001b[1;33m\u001b[0m\u001b[0m\n\u001b[0m\u001b[0;32m     18\u001b[0m \u001b[1;33m\u001b[0m\u001b[0m\n\u001b[0;32m     19\u001b[0m             \u001b[1;32mwith\u001b[0m \u001b[0mopen\u001b[0m\u001b[1;33m(\u001b[0m\u001b[0mstock_path\u001b[0m\u001b[1;33m.\u001b[0m\u001b[0mjoinpath\u001b[0m\u001b[1;33m(\u001b[0m\u001b[1;34m\"pos_vals.json\"\u001b[0m\u001b[1;33m)\u001b[0m\u001b[1;33m,\u001b[0m \u001b[1;34m\"w\"\u001b[0m\u001b[1;33m,\u001b[0m \u001b[0mencoding\u001b[0m\u001b[1;33m=\u001b[0m\u001b[1;34m\"utf-8\"\u001b[0m\u001b[1;33m)\u001b[0m \u001b[1;32mas\u001b[0m \u001b[0mpos_file\u001b[0m\u001b[1;33m:\u001b[0m\u001b[1;33m\u001b[0m\u001b[1;33m\u001b[0m\u001b[0m\n",
      "\u001b[1;31mKeyError\u001b[0m: 'pos_vals'"
     ]
    }
   ],
   "metadata": {}
  }
 ],
 "metadata": {
  "orig_nbformat": 4,
  "language_info": {
   "name": "python",
   "version": "3.8.8",
   "mimetype": "text/x-python",
   "codemirror_mode": {
    "name": "ipython",
    "version": 3
   },
   "pygments_lexer": "ipython3",
   "nbconvert_exporter": "python",
   "file_extension": ".py"
  },
  "kernelspec": {
   "name": "python3",
   "display_name": "Python 3.8.8 64-bit ('base': conda)"
  },
  "interpreter": {
   "hash": "b3ba2566441a7c06988d0923437866b63cedc61552a5af99d1f4fb67d367b25f"
  }
 },
 "nbformat": 4,
 "nbformat_minor": 2
}