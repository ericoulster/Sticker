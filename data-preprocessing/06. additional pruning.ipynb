{
 "cells": [
  {
   "cell_type": "code",
   "execution_count": 277,
   "source": [
    "import numpy as np\r\n",
    "import pandas as pd\r\n",
    "import json\r\n",
    "from pathlib import Path\r\n",
    "from joblib import parallel_backend"
   ],
   "outputs": [],
   "metadata": {}
  },
  {
   "cell_type": "code",
   "execution_count": 64,
   "source": [
    "# create an id for each stock:\r\n",
    "data_path = Path(r'../data/').glob('*.json')"
   ],
   "outputs": [],
   "metadata": {}
  },
  {
   "cell_type": "code",
   "execution_count": 65,
   "source": [
    "ticker_dict = {}\r\n",
    "j = 0\r\n",
    "for i in data_path:\r\n",
    "    ticker_dict[i.stem] = j\r\n",
    "    j += 1"
   ],
   "outputs": [],
   "metadata": {}
  },
  {
   "cell_type": "code",
   "execution_count": 225,
   "source": [
    "def index_create(ticker):\r\n",
    "    return ticker_dict[ticker]"
   ],
   "outputs": [],
   "metadata": {}
  },
  {
   "cell_type": "code",
   "execution_count": 288,
   "source": [
    "test_path = Path(r'../data-test/').glob('*.json')"
   ],
   "outputs": [],
   "metadata": {}
  },
  {
   "cell_type": "code",
   "execution_count": 281,
   "source": [
    "def null_list(pop_list, j):\r\n",
    "    if (data[i.stem]['comparisons'][j]['cor_processed'] == 0):\r\n",
    "       pop_list.append(j)\r\n",
    "    else:\r\n",
    "        pass"
   ],
   "outputs": [],
   "metadata": {}
  },
  {
   "cell_type": "code",
   "execution_count": 282,
   "source": [
    "with parallel_backend('threading', n_jobs=3):\r\n",
    "    for i in data_path:\r\n",
    "        try:\r\n",
    "            with open(i, 'r') as json_file:\r\n",
    "                data = json.load(json_file)\r\n",
    "                pop_list = []\r\n",
    "                for j in data[i.stem]['comparisons']:\r\n",
    "                    null_list(pop_list, j)\r\n",
    "                for j in pop_list:\r\n",
    "                    data[i.stem]['comparisons'].pop(j)\r\n",
    "                json_file.close()\r\n",
    "            with open(i, 'w') as json_file:\r\n",
    "                json.dump(data, json_file)\r\n",
    "        except Exception as e:\r\n",
    "            print(e)\r\n",
    "\r\n"
   ],
   "outputs": [],
   "metadata": {}
  },
  {
   "cell_type": "code",
   "execution_count": 289,
   "source": [
    "def insig_list(pop_list, j):\r\n",
    "    if (data[i.stem]['comparisons'][j]['p-val'] >= 0.15):\r\n",
    "       pop_list.append(j)\r\n",
    "    else:\r\n",
    "        pass"
   ],
   "outputs": [],
   "metadata": {}
  },
  {
   "cell_type": "code",
   "execution_count": 291,
   "source": [
    "with parallel_backend('threading', n_jobs=3):\r\n",
    "    for i in data_path:\r\n",
    "        try:\r\n",
    "            with open(i, 'r') as json_file:\r\n",
    "                data = json.load(json_file)\r\n",
    "                pop_list = []\r\n",
    "                for j in data[i.stem]['comparisons']:\r\n",
    "                    insig_list(pop_list, j)\r\n",
    "                for j in pop_list:\r\n",
    "                    data[i.stem]['comparisons'].pop(j)\r\n",
    "                json_file.close()\r\n",
    "            with open(i, 'w') as json_file:\r\n",
    "                json.dump(data, json_file)\r\n",
    "        except Exception as e:\r\n",
    "            print(e)"
   ],
   "outputs": [],
   "metadata": {}
  }
 ],
 "metadata": {
  "orig_nbformat": 4,
  "language_info": {
   "name": "python",
   "version": "3.8.8",
   "mimetype": "text/x-python",
   "codemirror_mode": {
    "name": "ipython",
    "version": 3
   },
   "pygments_lexer": "ipython3",
   "nbconvert_exporter": "python",
   "file_extension": ".py"
  },
  "kernelspec": {
   "name": "python3",
   "display_name": "Python 3.8.8 64-bit ('base': conda)"
  },
  "interpreter": {
   "hash": "b3ba2566441a7c06988d0923437866b63cedc61552a5af99d1f4fb67d367b25f"
  }
 },
 "nbformat": 4,
 "nbformat_minor": 2
}