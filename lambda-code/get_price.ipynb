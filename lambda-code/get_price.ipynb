{
 "cells": [
  {
   "cell_type": "code",
   "execution_count": 173,
   "metadata": {},
   "outputs": [],
   "source": [
    "import boto3\n",
    "import numpy as np\n",
    "import json\n",
    "from pathlib import Path"
   ]
  },
  {
   "cell_type": "code",
   "execution_count": 174,
   "metadata": {},
   "outputs": [],
   "source": [
    "from scipy.stats import spearmanr"
   ]
  },
  {
   "cell_type": "code",
   "execution_count": 175,
   "metadata": {},
   "outputs": [],
   "source": [
    "with open(Path(r'../access.json'), 'r') as access_file:\n",
    "    access = json.load(access_file)\n",
    "    access_file.close()"
   ]
  },
  {
   "cell_type": "code",
   "execution_count": 176,
   "metadata": {},
   "outputs": [],
   "source": [
    "client = boto3.client('dynamodb',region_name='us-east-2',aws_access_key_id=access['KEY_IAM_AWS'],aws_secret_access_key=access['SECRET_IAM_AWS'])"
   ]
  },
  {
   "cell_type": "code",
   "execution_count": 177,
   "metadata": {},
   "outputs": [],
   "source": [
    "def get_ticker(ticker):\n",
    "    response = client.get_item(TableName='tickers_sp', Key={'ticker': {'S': ticker}})\n",
    "    return response"
   ]
  },
  {
   "cell_type": "code",
   "execution_count": 178,
   "metadata": {},
   "outputs": [],
   "source": [
    "def price_process(response):\n",
    "    price_dict = {}\n",
    "    for i in response['Item']['price']['L']:\n",
    "        keys = list(i['M'].keys())[0]\n",
    "        values = list(list(i['M'].values())[0].values())[0]\n",
    "            \n",
    "        price_dict[keys] = values\n",
    "    return price_dict"
   ]
  },
  {
   "cell_type": "code",
   "execution_count": 179,
   "metadata": {},
   "outputs": [],
   "source": [
    "def ticker_process(ticker_name: str()) -> dict():\n",
    "    try:\n",
    "        ticker = get_ticker(ticker_name)\n",
    "    except:\n",
    "        Exception(f'Failed to retrieve data for {ticker_name}')\n",
    "    \n",
    "    try:\n",
    "        ticker_price_clean = price_process(ticker)\n",
    "    except:\n",
    "        Exception(f'Failed to process data for {ticker_name}')\n",
    "    \n",
    "    return ticker_price_clean"
   ]
  },
  {
   "cell_type": "code",
   "execution_count": 180,
   "metadata": {},
   "outputs": [],
   "source": [
    "def reverse_order(ticker_dict: dict()) -> dict():\n",
    "    \"\"\"\n",
    "    reverses dict ordering (from descending to ascending)\n",
    "    \"\"\"\n",
    "    return dict(reversed(list(ticker_dict.items())))"
   ]
  },
  {
   "cell_type": "code",
   "execution_count": 172,
   "metadata": {},
   "outputs": [],
   "source": [
    "def full_process(ticker_names: list()):\n",
    "    name_1 = ticker_names[0]\n",
    "    name_2 = ticker_names[1]\n",
    "\n",
    "    ticker_1 = ticker_process(name_1)\n",
    "    ticker_2 = ticker_process(name_2)\n",
    "\n",
    "    mutual_keys = []\n",
    "\n",
    "    for key in ticker_1:\n",
    "        if key in ticker_2:\n",
    "            mutual_keys.append(key)\n",
    "    \n",
    "    ticker_1_list = []\n",
    "    ticker_2_list = []\n",
    "    for i in mutual_keys:\n",
    "        t1 = ticker_1[i]\n",
    "        t2 = ticker_2[i]\n",
    "        ticker_1_list.append(float(t1))\n",
    "        ticker_2_list.append(float(t2))    \n",
    "    \n",
    "    ticker_1_asc = list(reversed(ticker_1_list))\n",
    "    ticker_2_asc = list(reversed(ticker_2_list))\n",
    "\n",
    "    t1_diff = np.diff(ticker_1_asc) / np.abs(ticker_1_asc[:-1]) * 100\n",
    "    t2_diff = np.diff(ticker_2_asc) / np.abs(ticker_2_asc[:-1]) * 100\n",
    "\n",
    "    cor_val = spearmanr(t1_diff, t2_diff, nan_policy='omit')\n",
    "\n",
    "    return cor_val"
   ]
  },
  {
   "cell_type": "code",
   "execution_count": 86,
   "metadata": {},
   "outputs": [],
   "source": [
    "ticker_unclean_2 = get_ticker('AMP')"
   ]
  },
  {
   "cell_type": "code",
   "execution_count": 88,
   "metadata": {},
   "outputs": [],
   "source": [
    "ticker_2 = price_process(ticker_unclean_2)"
   ]
  },
  {
   "cell_type": "code",
   "execution_count": 101,
   "metadata": {},
   "outputs": [],
   "source": [
    "ticker_1 = price_dict"
   ]
  },
  {
   "cell_type": "code",
   "execution_count": 155,
   "metadata": {},
   "outputs": [],
   "source": [
    "mutual_keys = []\n",
    "for key in ticker_1:\n",
    "    if key in ticker_2:\n",
    "        mutual_keys.append(key)"
   ]
  },
  {
   "cell_type": "code",
   "execution_count": null,
   "metadata": {},
   "outputs": [],
   "source": []
  },
  {
   "cell_type": "code",
   "execution_count": 157,
   "metadata": {},
   "outputs": [],
   "source": [
    "ticker_1_list = []\n",
    "ticker_2_list = []\n",
    "for i in mutual_keys:\n",
    "    t1 = ticker_1[i]\n",
    "    t2 = ticker_2[i]\n",
    "    ticker_1_list.append(float(t1))\n",
    "    ticker_2_list.append(float(t2))"
   ]
  },
  {
   "cell_type": "code",
   "execution_count": 161,
   "metadata": {},
   "outputs": [],
   "source": [
    "ticker_1_asc = list(reversed(ticker_1_list))\n",
    "ticker_2_asc = list(reversed(ticker_2_list))"
   ]
  },
  {
   "cell_type": "code",
   "execution_count": 166,
   "metadata": {},
   "outputs": [],
   "source": [
    "t1_diff = np.diff(ticker_1_asc) / np.abs(ticker_1_asc[:-1]) * 100\n",
    "t2_diff = np.diff(ticker_2_asc) / np.abs(ticker_2_asc[:-1]) * 100"
   ]
  },
  {
   "cell_type": "code",
   "execution_count": 170,
   "metadata": {},
   "outputs": [],
   "source": [
    "cor_val = spearmanr(t1_diff, t2_diff, nan_policy='omit')"
   ]
  },
  {
   "cell_type": "code",
   "execution_count": 171,
   "metadata": {},
   "outputs": [
    {
     "data": {
      "text/plain": [
       "SpearmanrResult(correlation=0.46343685892848613, pvalue=1.3342950574796146e-08)"
      ]
     },
     "execution_count": 171,
     "metadata": {},
     "output_type": "execute_result"
    }
   ],
   "source": [
    "cor_val"
   ]
  }
 ],
 "metadata": {
  "interpreter": {
   "hash": "b3ba2566441a7c06988d0923437866b63cedc61552a5af99d1f4fb67d367b25f"
  },
  "kernelspec": {
   "display_name": "Python 3.8.8 64-bit ('base': conda)",
   "language": "python",
   "name": "python3"
  },
  "language_info": {
   "codemirror_mode": {
    "name": "ipython",
    "version": 3
   },
   "file_extension": ".py",
   "mimetype": "text/x-python",
   "name": "python",
   "nbconvert_exporter": "python",
   "pygments_lexer": "ipython3",
   "version": "3.8.8"
  },
  "orig_nbformat": 4
 },
 "nbformat": 4,
 "nbformat_minor": 2
}
