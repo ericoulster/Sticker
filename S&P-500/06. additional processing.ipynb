{
 "cells": [
  {
   "cell_type": "code",
   "execution_count": 76,
   "metadata": {},
   "outputs": [],
   "source": [
    "import numpy as np\n",
    "import pandas as pd\n",
    "import json\n",
    "from pathlib import Path\n",
    "from joblib import parallel_backend"
   ]
  },
  {
   "cell_type": "code",
   "execution_count": 82,
   "metadata": {},
   "outputs": [],
   "source": [
    "metadata_df = pd.read_csv('01b. Stock-Background.csv', index_col='Symbol')"
   ]
  },
  {
   "cell_type": "code",
   "execution_count": 83,
   "metadata": {},
   "outputs": [],
   "source": [
    "# Replace this with other metadata\n",
    "def metadata_read(stem):\n",
    "    vals = metadata_df.loc[stem][['Security', 'GICS Sector', 'GICS Sub-Industry']]\n",
    "    meta_dict = {'Ticker Name': vals[0], 'Sector': vals[1], 'Sub-industry': vals[2]}\n",
    "    return meta_dict\n",
    "    "
   ]
  },
  {
   "cell_type": "code",
   "execution_count": 84,
   "metadata": {},
   "outputs": [],
   "source": [
    "data_path = Path(r'./correlation-data/').glob('*.json')"
   ]
  },
  {
   "cell_type": "code",
   "execution_count": 85,
   "metadata": {},
   "outputs": [],
   "source": [
    "def dataframe_actions(comparison_list):\n",
    "    df = pd.DataFrame(comparison_list)\n",
    "    df = df.drop(df[df['p-val'] == 0].index)\n",
    "    df['is_neg'] = np.where(df['cor_coef'] <= 0, 1, 0)\n",
    "    df['is_stat_sig'] = np.where(df['p-val'] < 0.05, 1, 0)\n",
    "    \n",
    "    df['abs_stock'] = np.absolute(df['cor_coef'])\n",
    "    df_pos = df[df['is_neg'] == 0]\n",
    "    df_neg = df[df['is_neg'] == 1]\n",
    "\n",
    "    # get closest to zero\n",
    "    if df[df['is_stat_sig'] == 1]['is_stat_sig'].sum() > 10:\n",
    "        dec_vals = df[df['is_stat_sig'] == 1].sort_values('abs_stock', ascending=True).drop(['is_neg', 'abs_stock'], axis=1)\n",
    "    else:\n",
    "        dec_vals = df.sort_values(['is_stat_sig', 'abs_stock'], ascending=True).drop(['is_neg', 'abs_stock'], axis=1)\n",
    "    dec_dict = dec_vals[:10].to_dict(orient='records')\n",
    "\n",
    "    # get positives\n",
    "    if df_pos[df_pos['is_stat_sig'] == 1]['is_stat_sig'].sum() > 10:\n",
    "        pos_vals = df_pos[df_pos['is_stat_sig'] == 1].sort_values('cor_coef', ascending=False).drop(['is_neg', 'abs_stock'], axis=1)\n",
    "    else:   \n",
    "        pos_vals = df_pos.sort_values(['is_stat_sig', 'cor_coef'], ascending=False).drop(['is_neg', 'abs_stock'], axis=1)\n",
    "    pos_dict = pos_vals[:10].to_dict(orient='records')\n",
    "    \n",
    "    # get negatives\n",
    "    if df_neg[df_neg['is_stat_sig'] == 1]['is_stat_sig'].sum() > 10:\n",
    "        neg_vals = df_neg[df_neg['is_stat_sig'] == 1].sort_values('cor_coef', ascending=True).drop(['is_neg', 'abs_stock'], axis=1)\n",
    "    else:   \n",
    "        neg_vals = df_neg.sort_values(['is_stat_sig', 'cor_coef'], ascending=False).drop(['is_neg', 'abs_stock'], axis=1)\n",
    "    neg_dict = neg_vals[:10].to_dict(orient='records')    \n",
    "\n",
    "    \n",
    "\n",
    "\n",
    "    return pos_dict, neg_dict, dec_dict\n",
    "        "
   ]
  },
  {
   "cell_type": "code",
   "execution_count": 86,
   "metadata": {},
   "outputs": [],
   "source": [
    "with parallel_backend('threading', n_jobs=3):\n",
    "    for i in data_path:\n",
    "        comparison_list = []\n",
    "        with open(i, 'r') as json_file:\n",
    "            data = json.load(json_file)\n",
    "            for j in data[i.stem]['comparisons']:\n",
    "                comparison_list.append(\n",
    "                    {'name': j, 'cor_coef': data[i.stem]['comparisons'][j]['cor_coef'], 'p-val': data[i.stem]['comparisons'][j]['p-val']}\n",
    "                    )\n",
    "            try:\n",
    "                pos_dict, neg_dict, dec_dict = dataframe_actions(comparison_list)\n",
    "                data[i.stem].pop('comparisons')\n",
    "                data[i.stem]['pos_vals'] = pos_dict\n",
    "                data[i.stem]['neg_vals'] = neg_dict\n",
    "                data[i.stem]['decorrelated_vals'] = dec_dict\n",
    "                data[i.stem]['good_data'] = 1\n",
    "            except:\n",
    "                data[i.stem]['good_data'] = 0\n",
    "\n",
    "            metadata = metadata_read(i.stem)\n",
    "            data[i.stem]['ticker_name'] = metadata['Ticker Name']\n",
    "            data[i.stem]['sector'] = metadata['Sector']\n",
    "            data[i.stem]['sub-industry'] = metadata['Sub-industry']\n",
    "            json_file.close()\n",
    "\n",
    "\n",
    "        \n",
    "        with open('.//S&P-sorted-data//' + i.name, 'w') as json_file:\n",
    "            json.dump(data, json_file)    \n",
    "            json_file.close()\n",
    "        "
   ]
  },
  {
   "cell_type": "code",
   "execution_count": null,
   "metadata": {},
   "outputs": [],
   "source": []
  }
 ],
 "metadata": {
  "interpreter": {
   "hash": "b3ba2566441a7c06988d0923437866b63cedc61552a5af99d1f4fb67d367b25f"
  },
  "kernelspec": {
   "display_name": "Python 3.8.8 64-bit ('base': conda)",
   "name": "python3"
  },
  "language_info": {
   "codemirror_mode": {
    "name": "ipython",
    "version": 3
   },
   "file_extension": ".py",
   "mimetype": "text/x-python",
   "name": "python",
   "nbconvert_exporter": "python",
   "pygments_lexer": "ipython3",
   "version": "3.8.8"
  },
  "orig_nbformat": 4
 },
 "nbformat": 4,
 "nbformat_minor": 2
}
