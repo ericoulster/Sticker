{
 "cells": [
  {
   "cell_type": "code",
   "execution_count": 29,
   "metadata": {},
   "outputs": [],
   "source": [
    "import numpy as np\n",
    "import pandas as pd\n",
    "from scipy.stats import spearmanr\n",
    "from joblib import parallel_backend\n",
    "import json"
   ]
  },
  {
   "cell_type": "code",
   "execution_count": 30,
   "metadata": {},
   "outputs": [],
   "source": [
    "df = pd.read_csv('S&P_stock_differences.csv', index_col=[0])"
   ]
  },
  {
   "cell_type": "code",
   "execution_count": 31,
   "metadata": {},
   "outputs": [],
   "source": [
    "raw_stock_df = pd.read_csv('S&P_stock_prices.csv', index_col=[0])"
   ]
  },
  {
   "cell_type": "code",
   "execution_count": 32,
   "metadata": {},
   "outputs": [],
   "source": [
    "with parallel_backend('threading', n_jobs=-1):\n",
    "    for y in df.columns:\n",
    "        val_dict = {}\n",
    "        for x in df.columns:\n",
    "            if x != y:\n",
    "                subset = df[[y, x]]\n",
    "                subset = subset.dropna(how='any')\n",
    "                \n",
    "                if (len(subset) <= 2):\n",
    "                    val_dict[str(subset.iloc[:,1].name)] = {'cor_processed': 0}\n",
    "                \n",
    "                else:\n",
    "                    try:\n",
    "                            cor_val = spearmanr(np.array(subset.iloc[:, 0]), np.array(subset.iloc[:,1]), nan_policy='omit')\n",
    "                            val_dict[str(x)] = {'cor_coef': round(cor_val[0], 6), 'p-val':round(cor_val[1], 6), 'cor_processed': 1}\n",
    "                    except:\n",
    "                            val_dict[str(subset.iloc[:,1].name)] = {'cor_processed': 0}\n",
    "            else:\n",
    "                pass\n",
    "        \n",
    "        name_dict = {str(y) : {'comparisons': val_dict, 'price': raw_stock_df[[y]].dropna(how='any').to_dict()[y]}}\n",
    "        with open('./correlation-data/' + str(y) + '.json', 'w', encoding='utf-8') as f:\n",
    "            json.dump(name_dict, f)\n",
    "        del val_dict"
   ]
  }
 ],
 "metadata": {
  "interpreter": {
   "hash": "b3ba2566441a7c06988d0923437866b63cedc61552a5af99d1f4fb67d367b25f"
  },
  "kernelspec": {
   "display_name": "Python 3.8.8 64-bit ('base': conda)",
   "name": "python3"
  },
  "language_info": {
   "codemirror_mode": {
    "name": "ipython",
    "version": 3
   },
   "file_extension": ".py",
   "mimetype": "text/x-python",
   "name": "python",
   "nbconvert_exporter": "python",
   "pygments_lexer": "ipython3",
   "version": "3.8.8"
  },
  "orig_nbformat": 4
 },
 "nbformat": 4,
 "nbformat_minor": 2
}
