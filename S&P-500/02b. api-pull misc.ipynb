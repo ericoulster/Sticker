{
 "cells": [
  {
   "cell_type": "code",
   "execution_count": 12,
   "metadata": {},
   "outputs": [],
   "source": [
    "import numpy as np\n",
    "import pandas as pd\n",
    "import requests\n",
    "import json\n",
    "import time"
   ]
  },
  {
   "cell_type": "code",
   "execution_count": 13,
   "metadata": {},
   "outputs": [],
   "source": [
    "df = pd.read_csv('01b. Stock-Background.csv')"
   ]
  },
  {
   "cell_type": "code",
   "execution_count": 14,
   "metadata": {},
   "outputs": [],
   "source": [
    "df = df[['Symbol', 'Security', 'GICS Sector']]"
   ]
  },
  {
   "cell_type": "code",
   "execution_count": 16,
   "metadata": {},
   "outputs": [],
   "source": [
    "ticker_list = np.array(df[['Symbol']]).tolist()"
   ]
  },
  {
   "cell_type": "code",
   "execution_count": 17,
   "metadata": {},
   "outputs": [],
   "source": [
    "ticker_list_clean = [i[0] for i in ticker_list]"
   ]
  },
  {
   "cell_type": "code",
   "execution_count": 22,
   "metadata": {},
   "outputs": [],
   "source": [
    "def get_ticker_json(ticker_name):\n",
    "    url = f\"https://www.alphavantage.co/query?function=OVERVIEW&symbol={ticker_name}&apikey=F3B78AEBWOIR1C7C\"\n",
    "    r = requests.get(url)\n",
    "    data = r.json()\n",
    "    with open(\"./meta-data/\" + str(ticker_name) + \".json\", 'w') as f:\n",
    "        json.dump(data, f)"
   ]
  },
  {
   "cell_type": "code",
   "execution_count": 23,
   "metadata": {},
   "outputs": [
    {
     "name": "stdout",
     "output_type": "stream",
     "text": [
      "XYL\n",
      "YUM\n",
      "ZBRA\n",
      "ZBH\n",
      "ZION\n",
      "ZTS\n"
     ]
    }
   ],
   "source": [
    "for i in ticker_list_clean[-6:]:\n",
    "    print(i)\n",
    "    get_ticker_json(i)\n",
    "    time.sleep(12.5)"
   ]
  },
  {
   "cell_type": "code",
   "execution_count": 18,
   "metadata": {},
   "outputs": [
    {
     "name": "stdout",
     "output_type": "stream",
     "text": [
      "{'Symbol': 'MMM', 'AssetType': 'Common Stock', 'Name': '3M Company', 'Description': 'The 3M Company is an American multinational conglomerate corporation operating in the fields of industry, worker safety, US health care, and consumer goods. The company produces over 60,000 products under several brands, including adhesives, abrasives, laminates, passive fire protection, personal protective equipment, window films, paint protection films, dental and orthodontic products, electrical and electronic connecting and insulating materials, medical products, car-care products, electronic circuits, healthcare software and optical films. It is based in Maplewood, a suburb of Saint Paul, Minnesota.', 'CIK': '66740', 'Exchange': 'NYSE', 'Currency': 'USD', 'Country': 'USA', 'Sector': 'LIFE SCIENCES', 'Industry': 'SURGICAL & MEDICAL INSTRUMENTS & APPARATUS', 'Address': '3M CENTER, BLDG. 220-13E-26A, ST PAUL, MN, US', 'FiscalYearEnd': 'December', 'LatestQuarter': '2021-09-30', 'MarketCapitalization': '102964879000', 'EBITDA': '10038000000', 'PERatio': '17.67', 'PEGRatio': '2.148', 'BookValue': '25.09', 'DividendPerShare': '5.91', 'DividendYield': '0.0329', 'EPS': '10.11', 'RevenuePerShareTTM': '60.91', 'ProfitMargin': '0.168', 'OperatingMarginTTM': '0.23', 'ReturnOnAssetsTTM': '0.108', 'ReturnOnEquityTTM': '0.448', 'RevenueTTM': '35326001000', 'GrossProfitTTM': '15685000000', 'DilutedEPSTTM': '10.11', 'QuarterlyEarningsGrowthYOY': '0', 'QuarterlyRevenueGrowthYOY': '0.071', 'AnalystTargetPrice': '191.4', 'TrailingPE': '17.67', 'ForwardPE': '17.09', 'PriceToSalesRatioTTM': '2.915', 'PriceToBookRatio': '7.12', 'EVToRevenue': '3.291', 'EVToEBITDA': '11.98', 'Beta': '0.976', '52WeekHigh': '205.85', '52WeekLow': '154.9', '50DayMovingAverage': '180.03', '200DayMovingAverage': '194.12', 'SharesOutstanding': '576253000', 'SharesFloat': '575602000', 'SharesShort': '9779300', 'SharesShortPriorMonth': '11585500', 'ShortRatio': '3.47', 'ShortPercentOutstanding': '0.02', 'ShortPercentFloat': '0.0169', 'PercentInsiders': '0.116', 'PercentInstitutions': '68.98', 'ForwardAnnualDividendRate': '5.92', 'ForwardAnnualDividendYield': '0.0331', 'PayoutRatio': '0.58', 'DividendDate': '2021-09-12', 'ExDividendDate': '2021-08-20', 'LastSplitFactor': '2:1', 'LastSplitDate': '2003-09-30'}\n"
     ]
    }
   ],
   "source": [
    "print(data.json())"
   ]
  }
 ],
 "metadata": {
  "interpreter": {
   "hash": "b3ba2566441a7c06988d0923437866b63cedc61552a5af99d1f4fb67d367b25f"
  },
  "kernelspec": {
   "display_name": "Python 3.8.8 64-bit ('base': conda)",
   "name": "python3"
  },
  "language_info": {
   "codemirror_mode": {
    "name": "ipython",
    "version": 3
   },
   "file_extension": ".py",
   "mimetype": "text/x-python",
   "name": "python",
   "nbconvert_exporter": "python",
   "pygments_lexer": "ipython3",
   "version": "3.8.8"
  },
  "orig_nbformat": 4
 },
 "nbformat": 4,
 "nbformat_minor": 2
}
